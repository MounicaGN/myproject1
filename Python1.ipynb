{
 "cells": [
  {
   "cell_type": "code",
   "execution_count": 1,
   "id": "804e745e",
   "metadata": {},
   "outputs": [
    {
     "name": "stdout",
     "output_type": "stream",
     "text": [
      "Om sai ram\n"
     ]
    }
   ],
   "source": [
    "print(\"Om sai ram\")"
   ]
  },
  {
   "cell_type": "markdown",
   "id": "5ff59aa1",
   "metadata": {},
   "source": [
    "# hellooo"
   ]
  }
 ],
 "metadata": {
  "kernelspec": {
   "display_name": "Python 3 (ipykernel)",
   "language": "python",
   "name": "python3"
  },
  "language_info": {
   "codemirror_mode": {
    "name": "ipython",
    "version": 3
   },
   "file_extension": ".py",
   "mimetype": "text/x-python",
   "name": "python",
   "nbconvert_exporter": "python",
   "pygments_lexer": "ipython3",
   "version": "3.9.12"
  }
 },
 "nbformat": 4,
 "nbformat_minor": 5
}
